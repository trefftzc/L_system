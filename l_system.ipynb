{
  "nbformat": 4,
  "nbformat_minor": 0,
  "metadata": {
    "colab": {
      "provenance": [],
      "authorship_tag": "ABX9TyMXCACPmD5/WRHKmF4hUlzb",
      "include_colab_link": true
    },
    "kernelspec": {
      "name": "python3",
      "display_name": "Python 3"
    },
    "language_info": {
      "name": "python"
    }
  },
  "cells": [
    {
      "cell_type": "markdown",
      "metadata": {
        "id": "view-in-github",
        "colab_type": "text"
      },
      "source": [
        "<a href=\"https://colab.research.google.com/github/trefftzc/L_system/blob/main/l_system.ipynb\" target=\"_parent\"><img src=\"https://colab.research.google.com/assets/colab-badge.svg\" alt=\"Open In Colab\"/></a>"
      ]
    },
    {
      "cell_type": "markdown",
      "source": [
        "The original source code was taken from:\n",
        "\n",
        "https://github.com/Nightwind0/lsystems/blob/master/generate.py"
      ],
      "metadata": {
        "id": "ciXOqL6pAaLv"
      }
    },
    {
      "cell_type": "code",
      "source": [
        "!sudo apt install libcairo2-dev pkg-config\n"
      ],
      "metadata": {
        "colab": {
          "base_uri": "https://localhost:8080/"
        },
        "id": "-xQY_QQN9rO_",
        "outputId": "8d1b5d86-2470-4432-8fd9-fe1684ef6f1e"
      },
      "execution_count": 1,
      "outputs": [
        {
          "output_type": "stream",
          "name": "stdout",
          "text": [
            "Reading package lists... Done\n",
            "Building dependency tree... Done\n",
            "Reading state information... Done\n",
            "pkg-config is already the newest version (0.29.2-1ubuntu3).\n",
            "The following additional packages will be installed:\n",
            "  libblkid-dev libblkid1 libcairo-script-interpreter2 libffi-dev\n",
            "  libglib2.0-dev libglib2.0-dev-bin libice-dev liblzo2-2 libmount-dev\n",
            "  libmount1 libpixman-1-dev libselinux1-dev libsepol-dev libsm-dev\n",
            "  libxcb-render0-dev libxcb-shm0-dev\n",
            "Suggested packages:\n",
            "  libcairo2-doc libgirepository1.0-dev libglib2.0-doc libgdk-pixbuf2.0-bin\n",
            "  | libgdk-pixbuf2.0-dev libxml2-utils libice-doc cryptsetup-bin libsm-doc\n",
            "The following NEW packages will be installed:\n",
            "  libblkid-dev libcairo-script-interpreter2 libcairo2-dev libffi-dev\n",
            "  libglib2.0-dev libglib2.0-dev-bin libice-dev liblzo2-2 libmount-dev\n",
            "  libpixman-1-dev libselinux1-dev libsepol-dev libsm-dev libxcb-render0-dev\n",
            "  libxcb-shm0-dev\n",
            "The following packages will be upgraded:\n",
            "  libblkid1 libmount1\n",
            "2 upgraded, 15 newly installed, 0 to remove and 43 not upgraded.\n",
            "Need to get 4,064 kB of archives.\n",
            "After this operation, 19.8 MB of additional disk space will be used.\n",
            "Get:1 http://archive.ubuntu.com/ubuntu jammy-updates/main amd64 libblkid1 amd64 2.37.2-4ubuntu3.4 [103 kB]\n",
            "Get:2 http://archive.ubuntu.com/ubuntu jammy-updates/main amd64 libmount1 amd64 2.37.2-4ubuntu3.4 [122 kB]\n",
            "Get:3 http://archive.ubuntu.com/ubuntu jammy/main amd64 liblzo2-2 amd64 2.10-2build3 [53.7 kB]\n",
            "Get:4 http://archive.ubuntu.com/ubuntu jammy/main amd64 libcairo-script-interpreter2 amd64 1.16.0-5ubuntu2 [62.0 kB]\n",
            "Get:5 http://archive.ubuntu.com/ubuntu jammy/main amd64 libice-dev amd64 2:1.0.10-1build2 [51.4 kB]\n",
            "Get:6 http://archive.ubuntu.com/ubuntu jammy/main amd64 libsm-dev amd64 2:1.2.3-1build2 [18.1 kB]\n",
            "Get:7 http://archive.ubuntu.com/ubuntu jammy-updates/main amd64 libpixman-1-dev amd64 0.40.0-1ubuntu0.22.04.1 [280 kB]\n",
            "Get:8 http://archive.ubuntu.com/ubuntu jammy/main amd64 libxcb-render0-dev amd64 1.14-3ubuntu3 [19.6 kB]\n",
            "Get:9 http://archive.ubuntu.com/ubuntu jammy/main amd64 libxcb-shm0-dev amd64 1.14-3ubuntu3 [6,848 B]\n",
            "Get:10 http://archive.ubuntu.com/ubuntu jammy/main amd64 libffi-dev amd64 3.4.2-4 [63.7 kB]\n",
            "Get:11 http://archive.ubuntu.com/ubuntu jammy-updates/main amd64 libglib2.0-dev-bin amd64 2.72.4-0ubuntu2.2 [117 kB]\n",
            "Get:12 http://archive.ubuntu.com/ubuntu jammy-updates/main amd64 libblkid-dev amd64 2.37.2-4ubuntu3.4 [185 kB]\n",
            "Get:13 http://archive.ubuntu.com/ubuntu jammy/main amd64 libsepol-dev amd64 3.3-1build1 [378 kB]\n",
            "Get:14 http://archive.ubuntu.com/ubuntu jammy/main amd64 libselinux1-dev amd64 3.3-1build2 [158 kB]\n",
            "Get:15 http://archive.ubuntu.com/ubuntu jammy-updates/main amd64 libmount-dev amd64 2.37.2-4ubuntu3.4 [14.5 kB]\n",
            "Get:16 http://archive.ubuntu.com/ubuntu jammy-updates/main amd64 libglib2.0-dev amd64 2.72.4-0ubuntu2.2 [1,739 kB]\n",
            "Get:17 http://archive.ubuntu.com/ubuntu jammy/main amd64 libcairo2-dev amd64 1.16.0-5ubuntu2 [692 kB]\n",
            "Fetched 4,064 kB in 1s (3,899 kB/s)\n",
            "debconf: unable to initialize frontend: Dialog\n",
            "debconf: (No usable dialog-like program is installed, so the dialog based frontend cannot be used. at /usr/share/perl5/Debconf/FrontEnd/Dialog.pm line 78, <> line 17.)\n",
            "debconf: falling back to frontend: Readline\n",
            "debconf: unable to initialize frontend: Readline\n",
            "debconf: (This frontend requires a controlling tty.)\n",
            "debconf: falling back to frontend: Teletype\n",
            "dpkg-preconfigure: unable to re-open stdin: \n",
            "(Reading database ... 121752 files and directories currently installed.)\n",
            "Preparing to unpack .../libblkid1_2.37.2-4ubuntu3.4_amd64.deb ...\n",
            "Unpacking libblkid1:amd64 (2.37.2-4ubuntu3.4) over (2.37.2-4ubuntu3) ...\n",
            "Setting up libblkid1:amd64 (2.37.2-4ubuntu3.4) ...\n",
            "(Reading database ... 121752 files and directories currently installed.)\n",
            "Preparing to unpack .../libmount1_2.37.2-4ubuntu3.4_amd64.deb ...\n",
            "Unpacking libmount1:amd64 (2.37.2-4ubuntu3.4) over (2.37.2-4ubuntu3) ...\n",
            "Setting up libmount1:amd64 (2.37.2-4ubuntu3.4) ...\n",
            "Selecting previously unselected package liblzo2-2:amd64.\n",
            "(Reading database ... 121752 files and directories currently installed.)\n",
            "Preparing to unpack .../00-liblzo2-2_2.10-2build3_amd64.deb ...\n",
            "Unpacking liblzo2-2:amd64 (2.10-2build3) ...\n",
            "Selecting previously unselected package libcairo-script-interpreter2:amd64.\n",
            "Preparing to unpack .../01-libcairo-script-interpreter2_1.16.0-5ubuntu2_amd64.deb ...\n",
            "Unpacking libcairo-script-interpreter2:amd64 (1.16.0-5ubuntu2) ...\n",
            "Selecting previously unselected package libice-dev:amd64.\n",
            "Preparing to unpack .../02-libice-dev_2%3a1.0.10-1build2_amd64.deb ...\n",
            "Unpacking libice-dev:amd64 (2:1.0.10-1build2) ...\n",
            "Selecting previously unselected package libsm-dev:amd64.\n",
            "Preparing to unpack .../03-libsm-dev_2%3a1.2.3-1build2_amd64.deb ...\n",
            "Unpacking libsm-dev:amd64 (2:1.2.3-1build2) ...\n",
            "Selecting previously unselected package libpixman-1-dev:amd64.\n",
            "Preparing to unpack .../04-libpixman-1-dev_0.40.0-1ubuntu0.22.04.1_amd64.deb ...\n",
            "Unpacking libpixman-1-dev:amd64 (0.40.0-1ubuntu0.22.04.1) ...\n",
            "Selecting previously unselected package libxcb-render0-dev:amd64.\n",
            "Preparing to unpack .../05-libxcb-render0-dev_1.14-3ubuntu3_amd64.deb ...\n",
            "Unpacking libxcb-render0-dev:amd64 (1.14-3ubuntu3) ...\n",
            "Selecting previously unselected package libxcb-shm0-dev:amd64.\n",
            "Preparing to unpack .../06-libxcb-shm0-dev_1.14-3ubuntu3_amd64.deb ...\n",
            "Unpacking libxcb-shm0-dev:amd64 (1.14-3ubuntu3) ...\n",
            "Selecting previously unselected package libffi-dev:amd64.\n",
            "Preparing to unpack .../07-libffi-dev_3.4.2-4_amd64.deb ...\n",
            "Unpacking libffi-dev:amd64 (3.4.2-4) ...\n",
            "Selecting previously unselected package libglib2.0-dev-bin.\n",
            "Preparing to unpack .../08-libglib2.0-dev-bin_2.72.4-0ubuntu2.2_amd64.deb ...\n",
            "Unpacking libglib2.0-dev-bin (2.72.4-0ubuntu2.2) ...\n",
            "Selecting previously unselected package libblkid-dev:amd64.\n",
            "Preparing to unpack .../09-libblkid-dev_2.37.2-4ubuntu3.4_amd64.deb ...\n",
            "Unpacking libblkid-dev:amd64 (2.37.2-4ubuntu3.4) ...\n",
            "Selecting previously unselected package libsepol-dev:amd64.\n",
            "Preparing to unpack .../10-libsepol-dev_3.3-1build1_amd64.deb ...\n",
            "Unpacking libsepol-dev:amd64 (3.3-1build1) ...\n",
            "Selecting previously unselected package libselinux1-dev:amd64.\n",
            "Preparing to unpack .../11-libselinux1-dev_3.3-1build2_amd64.deb ...\n",
            "Unpacking libselinux1-dev:amd64 (3.3-1build2) ...\n",
            "Selecting previously unselected package libmount-dev:amd64.\n",
            "Preparing to unpack .../12-libmount-dev_2.37.2-4ubuntu3.4_amd64.deb ...\n",
            "Unpacking libmount-dev:amd64 (2.37.2-4ubuntu3.4) ...\n",
            "Selecting previously unselected package libglib2.0-dev:amd64.\n",
            "Preparing to unpack .../13-libglib2.0-dev_2.72.4-0ubuntu2.2_amd64.deb ...\n",
            "Unpacking libglib2.0-dev:amd64 (2.72.4-0ubuntu2.2) ...\n",
            "Selecting previously unselected package libcairo2-dev:amd64.\n",
            "Preparing to unpack .../14-libcairo2-dev_1.16.0-5ubuntu2_amd64.deb ...\n",
            "Unpacking libcairo2-dev:amd64 (1.16.0-5ubuntu2) ...\n",
            "Setting up libglib2.0-dev-bin (2.72.4-0ubuntu2.2) ...\n",
            "Setting up libblkid-dev:amd64 (2.37.2-4ubuntu3.4) ...\n",
            "Setting up libpixman-1-dev:amd64 (0.40.0-1ubuntu0.22.04.1) ...\n",
            "Setting up libice-dev:amd64 (2:1.0.10-1build2) ...\n",
            "Setting up libsm-dev:amd64 (2:1.2.3-1build2) ...\n",
            "Setting up liblzo2-2:amd64 (2.10-2build3) ...\n",
            "Setting up libffi-dev:amd64 (3.4.2-4) ...\n",
            "Setting up libxcb-shm0-dev:amd64 (1.14-3ubuntu3) ...\n",
            "Setting up libsepol-dev:amd64 (3.3-1build1) ...\n",
            "Setting up libxcb-render0-dev:amd64 (1.14-3ubuntu3) ...\n",
            "Setting up libcairo-script-interpreter2:amd64 (1.16.0-5ubuntu2) ...\n",
            "Setting up libselinux1-dev:amd64 (3.3-1build2) ...\n",
            "Setting up libmount-dev:amd64 (2.37.2-4ubuntu3.4) ...\n",
            "Setting up libglib2.0-dev:amd64 (2.72.4-0ubuntu2.2) ...\n",
            "Processing triggers for libglib2.0-0:amd64 (2.72.4-0ubuntu2.2) ...\n",
            "Processing triggers for libc-bin (2.35-0ubuntu3.4) ...\n",
            "/sbin/ldconfig.real: /usr/local/lib/libtbbbind_2_5.so.3 is not a symbolic link\n",
            "\n",
            "/sbin/ldconfig.real: /usr/local/lib/libtbbmalloc_proxy.so.2 is not a symbolic link\n",
            "\n",
            "/sbin/ldconfig.real: /usr/local/lib/libtbb.so.12 is not a symbolic link\n",
            "\n",
            "/sbin/ldconfig.real: /usr/local/lib/libtbbbind_2_0.so.3 is not a symbolic link\n",
            "\n",
            "/sbin/ldconfig.real: /usr/local/lib/libtbbbind.so.3 is not a symbolic link\n",
            "\n",
            "/sbin/ldconfig.real: /usr/local/lib/libtbbmalloc.so.2 is not a symbolic link\n",
            "\n",
            "Processing triggers for man-db (2.10.2-1) ...\n",
            "Setting up libcairo2-dev:amd64 (1.16.0-5ubuntu2) ...\n"
          ]
        }
      ]
    },
    {
      "cell_type": "code",
      "source": [
        "!pip3 install --force-reinstall --no-cache-dir pycairo\n"
      ],
      "metadata": {
        "colab": {
          "base_uri": "https://localhost:8080/"
        },
        "id": "r8x1LoTL976O",
        "outputId": "0790b433-6b7d-49d9-d69e-ec788da90cf0"
      },
      "execution_count": 2,
      "outputs": [
        {
          "output_type": "stream",
          "name": "stdout",
          "text": [
            "Collecting pycairo\n",
            "  Downloading pycairo-1.26.0.tar.gz (346 kB)\n",
            "\u001b[?25l     \u001b[90m━━━━━━━━━━━━━━━━━━━━━━━━━━━━━━━━━━━━━━━━\u001b[0m \u001b[32m0.0/346.9 kB\u001b[0m \u001b[31m?\u001b[0m eta \u001b[36m-:--:--\u001b[0m\r\u001b[2K     \u001b[91m━━━━━━━━━━━━\u001b[0m\u001b[91m╸\u001b[0m\u001b[90m━━━━━━━━━━━━━━━━━━━━━━━━━━━\u001b[0m \u001b[32m112.6/346.9 kB\u001b[0m \u001b[31m3.3 MB/s\u001b[0m eta \u001b[36m0:00:01\u001b[0m\r\u001b[2K     \u001b[90m━━━━━━━━━━━━━━━━━━━━━━━━━━━━━━━━━━━━━━━━\u001b[0m \u001b[32m346.9/346.9 kB\u001b[0m \u001b[31m7.4 MB/s\u001b[0m eta \u001b[36m0:00:00\u001b[0m\n",
            "\u001b[?25h  Installing build dependencies ... \u001b[?25l\u001b[?25hdone\n",
            "  Getting requirements to build wheel ... \u001b[?25l\u001b[?25hdone\n",
            "  Installing backend dependencies ... \u001b[?25l\u001b[?25hdone\n",
            "  Preparing metadata (pyproject.toml) ... \u001b[?25l\u001b[?25hdone\n",
            "Building wheels for collected packages: pycairo\n",
            "  Building wheel for pycairo (pyproject.toml) ... \u001b[?25l\u001b[?25hdone\n",
            "  Created wheel for pycairo: filename=pycairo-1.26.0-cp310-cp310-linux_x86_64.whl size=320923 sha256=68585a3389891957a16153bad9840f7c56a7ebd59e99e769369e4373dac4f5e0\n",
            "  Stored in directory: /tmp/pip-ephem-wheel-cache-kx_ka9ab/wheels/e3/46/83/453eb7915b034ce1a9fee5a6023def2030633f6a73dc6d2de8\n",
            "Successfully built pycairo\n",
            "Installing collected packages: pycairo\n",
            "Successfully installed pycairo-1.26.0\n"
          ]
        }
      ]
    },
    {
      "cell_type": "code",
      "execution_count": 8,
      "metadata": {
        "colab": {
          "base_uri": "https://localhost:8080/"
        },
        "id": "0ndbxLC69YTN",
        "outputId": "a778cc03-9793-4cde-9b28-79d17bd652a1"
      },
      "outputs": [
        {
          "output_type": "stream",
          "name": "stdout",
          "text": [
            "F-G+F+G-F-GG-GG\n",
            "F-G+F+G-F-GG+F-G+F+G-F+GG-F-G+F+G-F-GGGG-GGGG\n",
            "F-G+F+G-F-GG+F-G+F+G-F+GG-F-G+F+G-F-GGGG+F-G+F+G-F-GG+F-G+F+G-F+GG-F-G+F+G-F+GGGG-F-G+F+G-F-GG+F-G+F+G-F+GG-F-G+F+G-F-GGGGGGGG-GGGGGGGG\n",
            "F-G+F+G-F-GG+F-G+F+G-F+GG-F-G+F+G-F-GGGG+F-G+F+G-F-GG+F-G+F+G-F+GG-F-G+F+G-F+GGGG-F-G+F+G-F-GG+F-G+F+G-F+GG-F-G+F+G-F-GGGGGGGG+F-G+F+G-F-GG+F-G+F+G-F+GG-F-G+F+G-F-GGGG+F-G+F+G-F-GG+F-G+F+G-F+GG-F-G+F+G-F+GGGG-F-G+F+G-F-GG+F-G+F+G-F+GG-F-G+F+G-F+GGGGGGGG-F-G+F+G-F-GG+F-G+F+G-F+GG-F-G+F+G-F-GGGG+F-G+F+G-F-GG+F-G+F+G-F+GG-F-G+F+G-F+GGGG-F-G+F+G-F-GG+F-G+F+G-F+GG-F-G+F+G-F-GGGGGGGGGGGGGGGG-GGGGGGGGGGGGGGGG\n",
            "F-G+F+G-F-GG+F-G+F+G-F+GG-F-G+F+G-F-GGGG+F-G+F+G-F-GG+F-G+F+G-F+GG-F-G+F+G-F+GGGG-F-G+F+G-F-GG+F-G+F+G-F+GG-F-G+F+G-F-GGGGGGGG+F-G+F+G-F-GG+F-G+F+G-F+GG-F-G+F+G-F-GGGG+F-G+F+G-F-GG+F-G+F+G-F+GG-F-G+F+G-F+GGGG-F-G+F+G-F-GG+F-G+F+G-F+GG-F-G+F+G-F+GGGGGGGG-F-G+F+G-F-GG+F-G+F+G-F+GG-F-G+F+G-F-GGGG+F-G+F+G-F-GG+F-G+F+G-F+GG-F-G+F+G-F+GGGG-F-G+F+G-F-GG+F-G+F+G-F+GG-F-G+F+G-F-GGGGGGGGGGGGGGGG+F-G+F+G-F-GG+F-G+F+G-F+GG-F-G+F+G-F-GGGG+F-G+F+G-F-GG+F-G+F+G-F+GG-F-G+F+G-F+GGGG-F-G+F+G-F-GG+F-G+F+G-F+GG-F-G+F+G-F-GGGGGGGG+F-G+F+G-F-GG+F-G+F+G-F+GG-F-G+F+G-F-GGGG+F-G+F+G-F-GG+F-G+F+G-F+GG-F-G+F+G-F+GGGG-F-G+F+G-F-GG+F-G+F+G-F+GG-F-G+F+G-F+GGGGGGGG-F-G+F+G-F-GG+F-G+F+G-F+GG-F-G+F+G-F-GGGG+F-G+F+G-F-GG+F-G+F+G-F+GG-F-G+F+G-F+GGGG-F-G+F+G-F-GG+F-G+F+G-F+GG-F-G+F+G-F+GGGGGGGGGGGGGGGG-F-G+F+G-F-GG+F-G+F+G-F+GG-F-G+F+G-F-GGGG+F-G+F+G-F-GG+F-G+F+G-F+GG-F-G+F+G-F+GGGG-F-G+F+G-F-GG+F-G+F+G-F+GG-F-G+F+G-F-GGGGGGGG+F-G+F+G-F-GG+F-G+F+G-F+GG-F-G+F+G-F-GGGG+F-G+F+G-F-GG+F-G+F+G-F+GG-F-G+F+G-F+GGGG-F-G+F+G-F-GG+F-G+F+G-F+GG-F-G+F+G-F+GGGGGGGG-F-G+F+G-F-GG+F-G+F+G-F+GG-F-G+F+G-F-GGGG+F-G+F+G-F-GG+F-G+F+G-F+GG-F-G+F+G-F+GGGG-F-G+F+G-F-GG+F-G+F+G-F+GG-F-G+F+G-F-GGGGGGGGGGGGGGGGGGGGGGGGGGGGGGGG-GGGGGGGGGGGGGGGGGGGGGGGGGGGGGGGG\n",
            "F-G+F+G-F-GG+F-G+F+G-F+GG-F-G+F+G-F-GGGG+F-G+F+G-F-GG+F-G+F+G-F+GG-F-G+F+G-F+GGGG-F-G+F+G-F-GG+F-G+F+G-F+GG-F-G+F+G-F-GGGGGGGG+F-G+F+G-F-GG+F-G+F+G-F+GG-F-G+F+G-F-GGGG+F-G+F+G-F-GG+F-G+F+G-F+GG-F-G+F+G-F+GGGG-F-G+F+G-F-GG+F-G+F+G-F+GG-F-G+F+G-F+GGGGGGGG-F-G+F+G-F-GG+F-G+F+G-F+GG-F-G+F+G-F-GGGG+F-G+F+G-F-GG+F-G+F+G-F+GG-F-G+F+G-F+GGGG-F-G+F+G-F-GG+F-G+F+G-F+GG-F-G+F+G-F-GGGGGGGGGGGGGGGG+F-G+F+G-F-GG+F-G+F+G-F+GG-F-G+F+G-F-GGGG+F-G+F+G-F-GG+F-G+F+G-F+GG-F-G+F+G-F+GGGG-F-G+F+G-F-GG+F-G+F+G-F+GG-F-G+F+G-F-GGGGGGGG+F-G+F+G-F-GG+F-G+F+G-F+GG-F-G+F+G-F-GGGG+F-G+F+G-F-GG+F-G+F+G-F+GG-F-G+F+G-F+GGGG-F-G+F+G-F-GG+F-G+F+G-F+GG-F-G+F+G-F+GGGGGGGG-F-G+F+G-F-GG+F-G+F+G-F+GG-F-G+F+G-F-GGGG+F-G+F+G-F-GG+F-G+F+G-F+GG-F-G+F+G-F+GGGG-F-G+F+G-F-GG+F-G+F+G-F+GG-F-G+F+G-F+GGGGGGGGGGGGGGGG-F-G+F+G-F-GG+F-G+F+G-F+GG-F-G+F+G-F-GGGG+F-G+F+G-F-GG+F-G+F+G-F+GG-F-G+F+G-F+GGGG-F-G+F+G-F-GG+F-G+F+G-F+GG-F-G+F+G-F-GGGGGGGG+F-G+F+G-F-GG+F-G+F+G-F+GG-F-G+F+G-F-GGGG+F-G+F+G-F-GG+F-G+F+G-F+GG-F-G+F+G-F+GGGG-F-G+F+G-F-GG+F-G+F+G-F+GG-F-G+F+G-F+GGGGGGGG-F-G+F+G-F-GG+F-G+F+G-F+GG-F-G+F+G-F-GGGG+F-G+F+G-F-GG+F-G+F+G-F+GG-F-G+F+G-F+GGGG-F-G+F+G-F-GG+F-G+F+G-F+GG-F-G+F+G-F-GGGGGGGGGGGGGGGGGGGGGGGGGGGGGGGG+F-G+F+G-F-GG+F-G+F+G-F+GG-F-G+F+G-F-GGGG+F-G+F+G-F-GG+F-G+F+G-F+GG-F-G+F+G-F+GGGG-F-G+F+G-F-GG+F-G+F+G-F+GG-F-G+F+G-F-GGGGGGGG+F-G+F+G-F-GG+F-G+F+G-F+GG-F-G+F+G-F-GGGG+F-G+F+G-F-GG+F-G+F+G-F+GG-F-G+F+G-F+GGGG-F-G+F+G-F-GG+F-G+F+G-F+GG-F-G+F+G-F+GGGGGGGG-F-G+F+G-F-GG+F-G+F+G-F+GG-F-G+F+G-F-GGGG+F-G+F+G-F-GG+F-G+F+G-F+GG-F-G+F+G-F+GGGG-F-G+F+G-F-GG+F-G+F+G-F+GG-F-G+F+G-F-GGGGGGGGGGGGGGGG+F-G+F+G-F-GG+F-G+F+G-F+GG-F-G+F+G-F-GGGG+F-G+F+G-F-GG+F-G+F+G-F+GG-F-G+F+G-F+GGGG-F-G+F+G-F-GG+F-G+F+G-F+GG-F-G+F+G-F-GGGGGGGG+F-G+F+G-F-GG+F-G+F+G-F+GG-F-G+F+G-F-GGGG+F-G+F+G-F-GG+F-G+F+G-F+GG-F-G+F+G-F+GGGG-F-G+F+G-F-GG+F-G+F+G-F+GG-F-G+F+G-F+GGGGGGGG-F-G+F+G-F-GG+F-G+F+G-F+GG-F-G+F+G-F-GGGG+F-G+F+G-F-GG+F-G+F+G-F+GG-F-G+F+G-F+GGGG-F-G+F+G-F-GG+F-G+F+G-F+GG-F-G+F+G-F+GGGGGGGGGGGGGGGG-F-G+F+G-F-GG+F-G+F+G-F+GG-F-G+F+G-F-GGGG+F-G+F+G-F-GG+F-G+F+G-F+GG-F-G+F+G-F+GGGG-F-G+F+G-F-GG+F-G+F+G-F+GG-F-G+F+G-F-GGGGGGGG+F-G+F+G-F-GG+F-G+F+G-F+GG-F-G+F+G-F-GGGG+F-G+F+G-F-GG+F-G+F+G-F+GG-F-G+F+G-F+GGGG-F-G+F+G-F-GG+F-G+F+G-F+GG-F-G+F+G-F+GGGGGGGG-F-G+F+G-F-GG+F-G+F+G-F+GG-F-G+F+G-F-GGGG+F-G+F+G-F-GG+F-G+F+G-F+GG-F-G+F+G-F+GGGG-F-G+F+G-F-GG+F-G+F+G-F+GG-F-G+F+G-F+GGGGGGGGGGGGGGGGGGGGGGGGGGGGGGGG-F-G+F+G-F-GG+F-G+F+G-F+GG-F-G+F+G-F-GGGG+F-G+F+G-F-GG+F-G+F+G-F+GG-F-G+F+G-F+GGGG-F-G+F+G-F-GG+F-G+F+G-F+GG-F-G+F+G-F-GGGGGGGG+F-G+F+G-F-GG+F-G+F+G-F+GG-F-G+F+G-F-GGGG+F-G+F+G-F-GG+F-G+F+G-F+GG-F-G+F+G-F+GGGG-F-G+F+G-F-GG+F-G+F+G-F+GG-F-G+F+G-F+GGGGGGGG-F-G+F+G-F-GG+F-G+F+G-F+GG-F-G+F+G-F-GGGG+F-G+F+G-F-GG+F-G+F+G-F+GG-F-G+F+G-F+GGGG-F-G+F+G-F-GG+F-G+F+G-F+GG-F-G+F+G-F-GGGGGGGGGGGGGGGG+F-G+F+G-F-GG+F-G+F+G-F+GG-F-G+F+G-F-GGGG+F-G+F+G-F-GG+F-G+F+G-F+GG-F-G+F+G-F+GGGG-F-G+F+G-F-GG+F-G+F+G-F+GG-F-G+F+G-F-GGGGGGGG+F-G+F+G-F-GG+F-G+F+G-F+GG-F-G+F+G-F-GGGG+F-G+F+G-F-GG+F-G+F+G-F+GG-F-G+F+G-F+GGGG-F-G+F+G-F-GG+F-G+F+G-F+GG-F-G+F+G-F+GGGGGGGG-F-G+F+G-F-GG+F-G+F+G-F+GG-F-G+F+G-F-GGGG+F-G+F+G-F-GG+F-G+F+G-F+GG-F-G+F+G-F+GGGG-F-G+F+G-F-GG+F-G+F+G-F+GG-F-G+F+G-F+GGGGGGGGGGGGGGGG-F-G+F+G-F-GG+F-G+F+G-F+GG-F-G+F+G-F-GGGG+F-G+F+G-F-GG+F-G+F+G-F+GG-F-G+F+G-F+GGGG-F-G+F+G-F-GG+F-G+F+G-F+GG-F-G+F+G-F-GGGGGGGG+F-G+F+G-F-GG+F-G+F+G-F+GG-F-G+F+G-F-GGGG+F-G+F+G-F-GG+F-G+F+G-F+GG-F-G+F+G-F+GGGG-F-G+F+G-F-GG+F-G+F+G-F+GG-F-G+F+G-F+GGGGGGGG-F-G+F+G-F-GG+F-G+F+G-F+GG-F-G+F+G-F-GGGG+F-G+F+G-F-GG+F-G+F+G-F+GG-F-G+F+G-F+GGGG-F-G+F+G-F-GG+F-G+F+G-F+GG-F-G+F+G-F-GGGGGGGGGGGGGGGGGGGGGGGGGGGGGGGGGGGGGGGGGGGGGGGGGGGGGGGGGGGGGGGG-GGGGGGGGGGGGGGGGGGGGGGGGGGGGGGGGGGGGGGGGGGGGGGGGGGGGGGGGGGGGGGGG\n"
          ]
        },
        {
          "output_type": "stream",
          "name": "stderr",
          "text": [
            "<ipython-input-8-1fa4fd50d339>:28: DeprecationWarning: Conversion of an array with ndim > 0 to a scalar is deprecated, and will error in future. Ensure you extract a single element from your array before performing this operation. (Deprecated NumPy 1.25.)\n",
            "  self.direction[0] = float(m.T[0])\n",
            "<ipython-input-8-1fa4fd50d339>:29: DeprecationWarning: Conversion of an array with ndim > 0 to a scalar is deprecated, and will error in future. Ensure you extract a single element from your array before performing this operation. (Deprecated NumPy 1.25.)\n",
            "  self.direction[1] = float(m.T[1])\n"
          ]
        }
      ],
      "source": [
        "#!/usr/bin/env python\n",
        "# Author: Daniel Palm\n",
        "# Copyright 2018\n",
        "#\n",
        "# Implementation of L-Systems, using a simple \"Turtle\" for drawing, and cairo for generating a png.\n",
        "# Based on LSystem definitions from wikipedia\n",
        "\n",
        "\n",
        "import math\n",
        "import cairo\n",
        "import copy\n",
        "import numpy as np\n",
        "\n",
        "\n",
        "class Turtle:\n",
        "    def __init__(self):\n",
        "        self.loc = np.array([0.0,0.0])\n",
        "        self.direction = np.array([1.0,0.0])\n",
        "        self.penOn = True\n",
        "        self.spacing = 0.02\n",
        "\n",
        "    def setSpacing(self, width):\n",
        "        self.spacing = width;\n",
        "    def rotate(self, radians):\n",
        "        c, s = np.cos(radians), np.sin(radians)\n",
        "        j = np.matrix([[c,s], [-s, c]])\n",
        "        m = np.dot(j, [self.direction[0],self.direction[1]])\n",
        "        self.direction[0] = float(m.T[0])\n",
        "        self.direction[1] = float(m.T[1])\n",
        "    def penDown(self):\n",
        "        self.penOn = True\n",
        "    def penUp(self):\n",
        "        self.penOn = False\n",
        "    def forward(self, ctx):\n",
        "        #print \"fwd\"\n",
        "        newpt = self.loc + self.direction * self.spacing\n",
        "        if self.penOn:\n",
        "            #print \"draw at %f, %f\" % (newpt[0], newpt[1])\n",
        "            ctx.move_to(self.loc[0], self.loc[1])\n",
        "            ctx.set_line_width(self.spacing / 6.0)\n",
        "            ctx.set_line_cap(cairo.LINE_CAP_ROUND)\n",
        "            ctx.set_line_join(cairo.LINE_JOIN_ROUND)\n",
        "            ctx.set_source_rgba(0,0,0,1)\n",
        "            ctx.line_to(newpt[0], newpt[1])\n",
        "            ctx.close_path()\n",
        "            ctx.stroke()\n",
        "        self.loc = newpt\n",
        "    def turnLeft(self, degrees):\n",
        "        self.rotate(-np.deg2rad(degrees))\n",
        "    def turnRight(self, degrees):\n",
        "        self.rotate(np.deg2rad(degrees))\n",
        "\n",
        "class LSystem:\n",
        "    FORWARD = 1\n",
        "    TURNLEFT = 2\n",
        "    TURNRIGHT = 3\n",
        "    PUSH = 4\n",
        "    POP = 5\n",
        "    def __init__(self, name):\n",
        "        self.stack = []\n",
        "        self.input = \"\"\n",
        "        self.rules = {}\n",
        "        self.bindMap = {}\n",
        "        self.name = name\n",
        "        self.scale = 0.02\n",
        "        self.angle = 90 #degrees\n",
        "        self.turtle = self.newTurtle()\n",
        "    def newTurtle(self):\n",
        "        turtle = Turtle()\n",
        "        turtle.penDown()\n",
        "        turtle.setSpacing(self.scale)\n",
        "        return turtle\n",
        "    def setScale(self, scale):\n",
        "        self.scale = scale\n",
        "        self.turtle.setSpacing(self.scale)\n",
        "    def doAction(self, action, ctx):\n",
        "        #print(\"Doing action %s\" % action)\n",
        "        if action == LSystem.FORWARD:\n",
        "            self.turtle.forward(ctx)\n",
        "        elif action == LSystem.TURNLEFT:\n",
        "            self.turtle.turnLeft(self.angle)\n",
        "        elif action == LSystem.TURNRIGHT:\n",
        "            self.turtle.turnRight(self.angle)\n",
        "    def setAngle(self, angle):\n",
        "        self.angle = angle\n",
        "    def addRule(self, start, end):\n",
        "        self.rules[start] = end\n",
        "    def bind(self, c, action):\n",
        "        self.bindMap[c] = action\n",
        "    def handleChar(self, c, ctx):\n",
        "        if ctx != None:\n",
        "            if c == \"[\":\n",
        "                #print \"push copy\"\n",
        "                self.stack.append(copy.copy(self.turtle))\n",
        "            elif c == \"]\":\n",
        "                #print \"pop copy\"\n",
        "                self.turtle = self.stack.pop()\n",
        "            elif c == \"+\":\n",
        "                self.turtle.turnLeft(self.angle)\n",
        "            elif c == \"-\":\n",
        "                self.turtle.turnRight(self.angle)\n",
        "            if c in self.bindMap:\n",
        "                self.doAction(self.bindMap[c], ctx)\n",
        "        if c in self.rules:\n",
        "            return self.rules[c]\n",
        "        else:\n",
        "            return c\n",
        "    def setStart(self, start):\n",
        "        self.input = start\n",
        "    def step(self, ctx):\n",
        "        newinput = \"\"\n",
        "        for c in self.input:\n",
        "            resp = self.handleChar(c, ctx)\n",
        "            if resp != None:\n",
        "                newinput += resp\n",
        "        self.input = newinput\n",
        "        print(self.input)\n",
        "    def drawPng(self, steps, width, height, origin=(0.5,0.5)):\n",
        "        surface = cairo.ImageSurface(cairo.FORMAT_ARGB32, width, height)\n",
        "        ctx = cairo.Context(surface)\n",
        "        ctx.scale(width, height)  # Normalizing the canvas\n",
        "\n",
        "        pat = cairo.LinearGradient(0.0, 0.0, 0.0, 1.0)\n",
        "        pat.add_color_stop_rgba(1, 0.62, 0.98, 1.0, 1.0)  # First stop, 50% opacity\n",
        "        pat.add_color_stop_rgba(0, 0.404, 0.251, 0.588, 1)  # Last stop, 100% opacity\n",
        "\n",
        "        ctx.rectangle(0, 0, 1, 1)  # Rectangle(x0, y0, x1, y1)\n",
        "        ctx.set_source(pat)\n",
        "        ctx.fill()\n",
        "        ctx.translate(origin[0], origin[1])  # Changing the current transformation matrix\n",
        "        for i in range(0,steps-1):\n",
        "            self.step(None)\n",
        "        self.step(ctx)\n",
        "        surface.write_to_png(self.name + \".png\")  # Output to PNG\n",
        "\n",
        "\n",
        "striangle = LSystem(\"striangle\")\n",
        "striangle.setAngle(120)\n",
        "striangle.setScale(0.005)\n",
        "striangle.bind(\"F\", LSystem.FORWARD)\n",
        "striangle.bind(\"G\", LSystem.FORWARD)\n",
        "striangle.addRule(\"F\", \"F-G+F+G-F\")\n",
        "striangle.addRule(\"G\", \"GG\")\n",
        "striangle.setStart(\"F-G-G\")\n",
        "striangle.drawPng(6, 256, 256, (0.2, 0.7))\n",
        "\n",
        "#striangle2 = LSystem(\"striangle2\")\n",
        "#striangle2.setAngle(60)\n",
        "#striangle2.setScale(0.001)\n",
        "#striangle2.bind(\"A\", LSystem.FORWARD)\n",
        "#striangle2.bind(\"B\", LSystem.FORWARD)\n",
        "#striangle2.addRule(\"A\", \"B-A-B\")\n",
        "#striangle2.addRule(\"B\", \"A+B+A\")\n",
        "#striangle2.setStart(\"A\")\n",
        "#striangle2.drawPng(11, 4096, 4096, (0.0, 0.0))\n",
        "\n",
        "#dragon = LSystem(\"dragon\")\n",
        "#dragon.setAngle(90)\n",
        "#dragon.bind(\"F\", LSystem.FORWARD)\n",
        "#dragon.addRule(\"X\", \"X+YF+\")\n",
        "#dragon.addRule(\"Y\", \"-FX-Y\")\n",
        "#dragon.setStart(\"FX\")\n",
        "#dragon.setScale(0.005)\n",
        "#dragon.drawPng(16, 4096, 4096, (0.5, 0.77))\n",
        "\n",
        "#plant = LSystem(\"plant\")\n",
        "#plant.setAngle(25)\n",
        "#plant.setScale(0.001)\n",
        "#plant.bind(\"F\", LSystem.FORWARD)\n",
        "#plant.addRule(\"X\", \"F+[[X]-X]-F[-FX]+X\")\n",
        "#plant.addRule(\"F\", \"FF\")\n",
        "#plant.setStart(\"X\")\n",
        "#plant.drawPng(10, 4096, 4096, (0.0, 0.5))\n",
        "\n",
        "#\"L\", string rewriting rules \"L\" -> \"+RF-LFL-FR+\", \"R\" -> \"-LF+RFR+FL-\", and angle 90 degrees\n",
        "\n",
        "#hilbert = LSystem(\"hilbert_curve\")\n",
        "#hilbert.setAngle(90)\n",
        "#hilbert.setScale(0.005)\n",
        "#hilbert.bind(\"F\", LSystem.FORWARD)\n",
        "#hilbert.addRule(\"L\", \"+RF-LFL-FR+\")\n",
        "#hilbert.addRule(\"R\", \"-LF+RFR+FL-\")\n",
        "#hilbert.setStart(\"L\")\n",
        "#hilbert.drawPng(9, 4096, 4096, (0.0,0.0))\n",
        "\n",
        "#It is also a Lindenmayer system and the curve can be encoded with initial string \"X\", string rewriting rules \"X\" -> \"XFYFX+F+YFXFY-F-XFYFX\", \"Y\" -> \"YFXFY-F#-XFYFX+F+YFXFY\", and angle 90 degrees\n",
        "#hilbert2 = LSystem(\"hilbert2_curve\")\n",
        "#hilbert2.setAngle(90)\n",
        "#hilbert2.setScale(0.003)\n",
        "#hilbert2.bind(\"F\", LSystem.FORWARD)\n",
        "#hilbert2.addRule(\"X\", \"XFYFX+F+YFXFY-F-XFYFX\")\n",
        "#hilbert2.addRule(\"Y\", \"YFXFY-F-XFYFX+F+YFXFY\")\n",
        "#hilbert2.setStart(\"X\")\n",
        "#hilbert2.drawPng(7, 4096, 4096, (0.0,0.0))\n",
        "\n",
        "#Peano-Gosper curve (X -> X+YF++YF-FX--FXFX-YF+, Y -> -FX+YFYF++YF+FX--FX-Y, 60degrees)\n",
        "\n",
        "#peano_gosper = LSystem(\"peano_gosper\")\n",
        "#peano_gosper.setAngle(60)\n",
        "#peano_gosper.setScale(0.004)\n",
        "#peano_gosper.bind(\"F\", LSystem.FORWARD)\n",
        "#peano_gosper.addRule(\"X\", \"X+YF++YF-FX--FXFX-YF+\")\n",
        "#peano_gosper.addRule(\"Y\", \"-FX+YFYF++YF+FX--FX-Y\")\n",
        "#peano_gosper.setStart(\"X\")\n",
        "#peano_gosper.drawPng(7, 4096, 4096, (0.7,0.4))"
      ]
    },
    {
      "cell_type": "code",
      "source": [
        "!ls -la"
      ],
      "metadata": {
        "colab": {
          "base_uri": "https://localhost:8080/"
        },
        "id": "TGh0hkYA-owG",
        "outputId": "d51082fc-2a99-42ba-f2e0-a0d04c49060b"
      },
      "execution_count": 4,
      "outputs": [
        {
          "output_type": "stream",
          "name": "stdout",
          "text": [
            "total 20\n",
            "drwxr-xr-x 1 root root 4096 Apr 29 06:11 .\n",
            "drwxr-xr-x 1 root root 4096 Apr 29 06:09 ..\n",
            "drwxr-xr-x 4 root root 4096 Apr 25 13:24 .config\n",
            "drwxr-xr-x 1 root root 4096 Apr 25 13:25 sample_data\n",
            "-rw-r--r-- 1 root root 1319 Apr 29 06:11 striangle.png\n"
          ]
        }
      ]
    },
    {
      "cell_type": "markdown",
      "source": [],
      "metadata": {
        "id": "wLxZE80x_GL2"
      }
    },
    {
      "cell_type": "code",
      "source": [
        "!pwd"
      ],
      "metadata": {
        "colab": {
          "base_uri": "https://localhost:8080/"
        },
        "id": "llgv7Sfj_FhY",
        "outputId": "ac1f657e-8dd9-461c-8214-8dd6187962c0"
      },
      "execution_count": 5,
      "outputs": [
        {
          "output_type": "stream",
          "name": "stdout",
          "text": [
            "/content\n"
          ]
        }
      ]
    },
    {
      "cell_type": "markdown",
      "source": [
        "To display the image, use this code in a code cell:\n",
        "\n",
        "from IPython.display import Image\n",
        "display(Image('/content/striangle.png', width=512, height=512))"
      ],
      "metadata": {
        "id": "VojQGr17Yvcr"
      }
    },
    {
      "cell_type": "code",
      "source": [
        "from IPython.display import Image\n",
        "display(Image('/content/striangle.png', width=512, height=512))"
      ],
      "metadata": {
        "colab": {
          "base_uri": "https://localhost:8080/",
          "height": 529
        },
        "id": "bhXeHftbe5H0",
        "outputId": "0e815631-1e82-4eab-ed5d-474822ddd9bb"
      },
      "execution_count": 9,
      "outputs": [
        {
          "output_type": "display_data",
          "data": {
            "image/png": "[encoded data removed]",
            "text/plain": [
              "<IPython.core.display.Image object>"
            ]
          },
          "metadata": {
            "image/png": {
              "width": 512,
              "height": 512
            }
          }
        }
      ]
    }
  ]
}